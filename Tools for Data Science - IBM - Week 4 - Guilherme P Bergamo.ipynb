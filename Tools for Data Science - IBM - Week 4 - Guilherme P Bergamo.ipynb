{
 "cells": [
  {
   "cell_type": "markdown",
   "id": "408dbb7a",
   "metadata": {},
   "source": [
    "# My Jupyter Notebook on IBM Watson Studio"
   ]
  },
  {
   "cell_type": "markdown",
   "id": "0ba11caa",
   "metadata": {},
   "source": [
    " <strong>Guilherme Pinheiro Bergamo</strong>  \n",
    " \n",
    "Data Consultant"
   ]
  },
  {
   "cell_type": "markdown",
   "id": "7b481895",
   "metadata": {},
   "source": [
    "<i>I am interested in data science because I love to work with data</i>"
   ]
  },
  {
   "cell_type": "markdown",
   "id": "e5a822fe",
   "metadata": {},
   "source": [
    "### Cell 5 will print a string saying \"hello world\""
   ]
  },
  {
   "cell_type": "code",
   "execution_count": 1,
   "id": "5a1f1714",
   "metadata": {},
   "outputs": [
    {
     "name": "stdout",
     "output_type": "stream",
     "text": [
      "Hello World\n"
     ]
    }
   ],
   "source": [
    "print(\"Hello World\")"
   ]
  },
  {
   "cell_type": "markdown",
   "id": "871203a7",
   "metadata": {},
   "source": [
    "Hello, I am Guilherme. Here are my social media\n",
    "<il>\n",
    "    <li><a href='https://www.instagram.com/guiilhermepb/'>Instagram\n",
    "    <li><a href='https://www.linkedin.com/in/guilherme-pinheiro-bergamo/'>LinkedIn\n",
    "        </il>\n",
    "\n",
    "        \n",
    "My favorite anime is One Piece\n",
    "        <img src='https://ambrosia.com.br/wp-content/uploads/2020/10/Ambrosia-One-Piece-Anime-Novidades-Saga-Alabasta-Netflix.jpg'> \n",
    "        \n"
   ]
  },
  {
   "cell_type": "markdown",
   "id": "1df5a067",
   "metadata": {},
   "source": [
    "Thank you for reading!"
   ]
  }
 ],
 "metadata": {
  "kernelspec": {
   "display_name": "Python 3 (ipykernel)",
   "language": "python",
   "name": "python3"
  },
  "language_info": {
   "codemirror_mode": {
    "name": "ipython",
    "version": 3
   },
   "file_extension": ".py",
   "mimetype": "text/x-python",
   "name": "python",
   "nbconvert_exporter": "python",
   "pygments_lexer": "ipython3",
   "version": "3.9.13"
  }
 },
 "nbformat": 4,
 "nbformat_minor": 5
}
